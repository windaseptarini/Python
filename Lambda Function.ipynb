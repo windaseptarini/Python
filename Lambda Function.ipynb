{
 "cells": [
  {
   "cell_type": "code",
   "execution_count": 1,
   "id": "115e87ac",
   "metadata": {},
   "outputs": [],
   "source": [
    "import time"
   ]
  },
  {
   "cell_type": "code",
   "execution_count": 7,
   "id": "068636bc",
   "metadata": {},
   "outputs": [
    {
     "name": "stdout",
     "output_type": "stream",
     "text": [
      "0.00018596649169921875\n"
     ]
    }
   ],
   "source": [
    "#normal function\n",
    "#addition\n",
    "\n",
    "start = time.time()\n",
    "def addition_normal(x,y):\n",
    "    return x+y\n",
    "addition_normal (3,5)\n",
    "done = time.time()\n",
    "\n",
    "elapsed_time_normal = done-start\n",
    "print (elapsed_time_normal)"
   ]
  },
  {
   "cell_type": "code",
   "execution_count": 8,
   "id": "efe81d70",
   "metadata": {},
   "outputs": [
    {
     "name": "stdout",
     "output_type": "stream",
     "text": [
      "12\n",
      "0.0009119510650634766\n"
     ]
    }
   ],
   "source": [
    "#lambda function\n",
    "#addition\n",
    "\n",
    "start2 = time.time()\n",
    "addition_lambda = (lambda x,y : x+y)\n",
    "print (addition_lambda(3,9))\n",
    "done2 = time.time()\n",
    "\n",
    "elapsed_time_lambda = done2-start2\n",
    "print (elapsed_time_lambda)"
   ]
  },
  {
   "cell_type": "code",
   "execution_count": 9,
   "id": "cec56574",
   "metadata": {},
   "outputs": [
    {
     "name": "stdout",
     "output_type": "stream",
     "text": [
      "0.0007259845733642578\n"
     ]
    }
   ],
   "source": [
    "#time difference\n",
    "print (elapsed_time_lambda - elapsed_time_normal)\n"
   ]
  },
  {
   "cell_type": "code",
   "execution_count": 11,
   "id": "14f85081",
   "metadata": {},
   "outputs": [
    {
     "name": "stdout",
     "output_type": "stream",
     "text": [
      "22\n",
      "22\n"
     ]
    }
   ],
   "source": [
    "def my_function(n):\n",
    "\treturn lambda a: a*n\n",
    "\n",
    "my_doubler = my_function(2)\n",
    "print (my_doubler(11))\n",
    "print ((my_function(2))(11))"
   ]
  },
  {
   "cell_type": "markdown",
   "id": "f0ea80ab",
   "metadata": {},
   "source": [
    "# Lambda Function on filter()"
   ]
  },
  {
   "cell_type": "markdown",
   "id": "8dad8520",
   "metadata": {},
   "source": [
    "## filter() without lambda function"
   ]
  },
  {
   "cell_type": "code",
   "execution_count": 19,
   "id": "7a520949",
   "metadata": {},
   "outputs": [
    {
     "name": "stdout",
     "output_type": "stream",
     "text": [
      "[6, 7, 8, 9, 10]\n"
     ]
    }
   ],
   "source": [
    "def my_filter(data):\n",
    "    if data > 5:\n",
    "        return True\n",
    "    else :\n",
    "        return False\n",
    "\n",
    "my_data = [1,2,3,4,5,6,7,8,9,10]\n",
    "filtered = filter (my_filter, my_data)\n",
    "print (list(filtered))"
   ]
  },
  {
   "cell_type": "markdown",
   "id": "dcf070ae",
   "metadata": {},
   "source": [
    "## filter() with lambda function"
   ]
  },
  {
   "cell_type": "code",
   "execution_count": 20,
   "id": "b5d9def3",
   "metadata": {},
   "outputs": [
    {
     "name": "stdout",
     "output_type": "stream",
     "text": [
      "[6, 7, 8, 9, 10]\n"
     ]
    }
   ],
   "source": [
    "my_data = [1,2,3,4,5,6,7,8,9,10]\n",
    "filtered = filter(lambda data: data>5, my_data)\n",
    "print (list(filtered))"
   ]
  },
  {
   "cell_type": "markdown",
   "id": "24676eea",
   "metadata": {},
   "source": [
    "# Lambda Function on map()"
   ]
  },
  {
   "cell_type": "code",
   "execution_count": 21,
   "id": "8e96b0a3",
   "metadata": {},
   "outputs": [
    {
     "name": "stdout",
     "output_type": "stream",
     "text": [
      "[2, 4, 6, 8, 10, 12, 14, 16, 18, 20]\n"
     ]
    }
   ],
   "source": [
    "def my_map (data):\n",
    "    return data * 2\n",
    "\n",
    "my_data = [1,2,3,4,5,6,7,8,9,10]\n",
    "mapped = map(my_map, my_data)\n",
    "print (list(mapped))"
   ]
  },
  {
   "cell_type": "code",
   "execution_count": 24,
   "id": "224c1609",
   "metadata": {},
   "outputs": [
    {
     "name": "stdout",
     "output_type": "stream",
     "text": [
      "[2, 4, 6, 8, 10, 12, 14, 16, 18, 20]\n"
     ]
    }
   ],
   "source": [
    "my_data = [1,2,3,4,5,6,7,8,9,10]\n",
    "mapped = map(lambda data: data*2, my_data)\n",
    "print (list(mapped))"
   ]
  },
  {
   "cell_type": "code",
   "execution_count": 25,
   "id": "f76f9d81",
   "metadata": {},
   "outputs": [
    {
     "name": "stdout",
     "output_type": "stream",
     "text": [
      "[5, 7, 9]\n"
     ]
    }
   ],
   "source": [
    "# Add two lists using map and lambda\n",
    "  \n",
    "numbers1 = [1, 2, 3]\n",
    "numbers2 = [4, 5, 6]\n",
    "  \n",
    "result = map(lambda x, y: x + y, numbers1, numbers2)\n",
    "print(list(result))"
   ]
  },
  {
   "cell_type": "code",
   "execution_count": 26,
   "id": "c0d07f2d",
   "metadata": {},
   "outputs": [
    {
     "name": "stdout",
     "output_type": "stream",
     "text": [
      "[['s', 'a', 't'], ['b', 'a', 't'], ['c', 'a', 't'], ['m', 'a', 't']]\n"
     ]
    }
   ],
   "source": [
    "# List of strings\n",
    "l = ['sat', 'bat', 'cat', 'mat']\n",
    "  \n",
    "# map() can listify the list of strings individually\n",
    "test = list(map(list, l))\n",
    "print(test)"
   ]
  },
  {
   "cell_type": "code",
   "execution_count": 36,
   "id": "71089f35",
   "metadata": {},
   "outputs": [],
   "source": [
    "import pandas as pd\n",
    "\n",
    "data = pd.Series ([\"LIA\",\"MIA\",\"AGUNG\",\"AJI\",\"Sutoyo\",\"Limbad\"])\n",
    "df = pd.DataFrame(\n",
    "    {\"name\": data,\n",
    "     \"score\": [50, 32, 45, 45, 23, 45]\n",
    "    }\n",
    ")"
   ]
  },
  {
   "cell_type": "code",
   "execution_count": 37,
   "id": "ac21e6b0",
   "metadata": {},
   "outputs": [
    {
     "data": {
      "text/html": [
       "<div>\n",
       "<style scoped>\n",
       "    .dataframe tbody tr th:only-of-type {\n",
       "        vertical-align: middle;\n",
       "    }\n",
       "\n",
       "    .dataframe tbody tr th {\n",
       "        vertical-align: top;\n",
       "    }\n",
       "\n",
       "    .dataframe thead th {\n",
       "        text-align: right;\n",
       "    }\n",
       "</style>\n",
       "<table border=\"1\" class=\"dataframe\">\n",
       "  <thead>\n",
       "    <tr style=\"text-align: right;\">\n",
       "      <th></th>\n",
       "      <th>name</th>\n",
       "      <th>score</th>\n",
       "    </tr>\n",
       "  </thead>\n",
       "  <tbody>\n",
       "    <tr>\n",
       "      <th>0</th>\n",
       "      <td>LIA</td>\n",
       "      <td>50</td>\n",
       "    </tr>\n",
       "    <tr>\n",
       "      <th>1</th>\n",
       "      <td>MIA</td>\n",
       "      <td>32</td>\n",
       "    </tr>\n",
       "    <tr>\n",
       "      <th>2</th>\n",
       "      <td>AGUNG</td>\n",
       "      <td>45</td>\n",
       "    </tr>\n",
       "    <tr>\n",
       "      <th>3</th>\n",
       "      <td>AJI</td>\n",
       "      <td>45</td>\n",
       "    </tr>\n",
       "    <tr>\n",
       "      <th>4</th>\n",
       "      <td>Sutoyo</td>\n",
       "      <td>23</td>\n",
       "    </tr>\n",
       "    <tr>\n",
       "      <th>5</th>\n",
       "      <td>Limbad</td>\n",
       "      <td>45</td>\n",
       "    </tr>\n",
       "  </tbody>\n",
       "</table>\n",
       "</div>"
      ],
      "text/plain": [
       "     name  score\n",
       "0     LIA     50\n",
       "1     MIA     32\n",
       "2   AGUNG     45\n",
       "3     AJI     45\n",
       "4  Sutoyo     23\n",
       "5  Limbad     45"
      ]
     },
     "execution_count": 37,
     "metadata": {},
     "output_type": "execute_result"
    }
   ],
   "source": [
    "df"
   ]
  },
  {
   "cell_type": "code",
   "execution_count": 40,
   "id": "f76153ed",
   "metadata": {},
   "outputs": [
    {
     "data": {
      "text/html": [
       "<div>\n",
       "<style scoped>\n",
       "    .dataframe tbody tr th:only-of-type {\n",
       "        vertical-align: middle;\n",
       "    }\n",
       "\n",
       "    .dataframe tbody tr th {\n",
       "        vertical-align: top;\n",
       "    }\n",
       "\n",
       "    .dataframe thead th {\n",
       "        text-align: right;\n",
       "    }\n",
       "</style>\n",
       "<table border=\"1\" class=\"dataframe\">\n",
       "  <thead>\n",
       "    <tr style=\"text-align: right;\">\n",
       "      <th></th>\n",
       "      <th>name</th>\n",
       "      <th>score</th>\n",
       "      <th>lower_name</th>\n",
       "    </tr>\n",
       "  </thead>\n",
       "  <tbody>\n",
       "    <tr>\n",
       "      <th>0</th>\n",
       "      <td>LIA</td>\n",
       "      <td>50</td>\n",
       "      <td>lia</td>\n",
       "    </tr>\n",
       "    <tr>\n",
       "      <th>1</th>\n",
       "      <td>MIA</td>\n",
       "      <td>32</td>\n",
       "      <td>mia</td>\n",
       "    </tr>\n",
       "    <tr>\n",
       "      <th>2</th>\n",
       "      <td>AGUNG</td>\n",
       "      <td>45</td>\n",
       "      <td>agung</td>\n",
       "    </tr>\n",
       "    <tr>\n",
       "      <th>3</th>\n",
       "      <td>AJI</td>\n",
       "      <td>45</td>\n",
       "      <td>aji</td>\n",
       "    </tr>\n",
       "    <tr>\n",
       "      <th>4</th>\n",
       "      <td>Sutoyo</td>\n",
       "      <td>23</td>\n",
       "      <td>sutoyo</td>\n",
       "    </tr>\n",
       "    <tr>\n",
       "      <th>5</th>\n",
       "      <td>Limbad</td>\n",
       "      <td>45</td>\n",
       "      <td>limbad</td>\n",
       "    </tr>\n",
       "  </tbody>\n",
       "</table>\n",
       "</div>"
      ],
      "text/plain": [
       "     name  score lower_name\n",
       "0     LIA     50        lia\n",
       "1     MIA     32        mia\n",
       "2   AGUNG     45      agung\n",
       "3     AJI     45        aji\n",
       "4  Sutoyo     23     sutoyo\n",
       "5  Limbad     45     limbad"
      ]
     },
     "execution_count": 40,
     "metadata": {},
     "output_type": "execute_result"
    }
   ],
   "source": [
    "df[\"lower_name\"] = df[\"name\"].apply(lambda x: x.lower())\n",
    "df"
   ]
  },
  {
   "cell_type": "code",
   "execution_count": 42,
   "id": "fa65a3d0",
   "metadata": {},
   "outputs": [
    {
     "name": "stdout",
     "output_type": "stream",
     "text": [
      "[['s', 'a', 't'], ['b', 'a', 't'], ['c', 'a', 't'], ['m', 'a', 't']]\n"
     ]
    }
   ],
   "source": [
    "l = ['sat', 'bat', 'cat', 'mat']\n",
    "test = list(map(list, l))\n",
    "print(test)"
   ]
  },
  {
   "cell_type": "code",
   "execution_count": 43,
   "id": "6bec44f1",
   "metadata": {},
   "outputs": [
    {
     "ename": "TypeError",
     "evalue": "'int' object is not iterable",
     "output_type": "error",
     "traceback": [
      "\u001b[0;31m---------------------------------------------------------------------------\u001b[0m",
      "\u001b[0;31mTypeError\u001b[0m                                 Traceback (most recent call last)",
      "\u001b[0;32m/var/folders/gj/cr7rwrpn0zs3vx9_ml43q6240000gp/T/ipykernel_39578/4068619198.py\u001b[0m in \u001b[0;36m<module>\u001b[0;34m\u001b[0m\n\u001b[0;32m----> 1\u001b[0;31m \u001b[0mlist\u001b[0m\u001b[0;34m(\u001b[0m\u001b[0;36m1\u001b[0m\u001b[0;34m)\u001b[0m\u001b[0;34m\u001b[0m\u001b[0;34m\u001b[0m\u001b[0m\n\u001b[0m",
      "\u001b[0;31mTypeError\u001b[0m: 'int' object is not iterable"
     ]
    }
   ],
   "source": [
    "list(1)"
   ]
  },
  {
   "cell_type": "code",
   "execution_count": null,
   "id": "1fe39bdc",
   "metadata": {},
   "outputs": [],
   "source": []
  }
 ],
 "metadata": {
  "kernelspec": {
   "display_name": "Python 3 (ipykernel)",
   "language": "python",
   "name": "python3"
  },
  "language_info": {
   "codemirror_mode": {
    "name": "ipython",
    "version": 3
   },
   "file_extension": ".py",
   "mimetype": "text/x-python",
   "name": "python",
   "nbconvert_exporter": "python",
   "pygments_lexer": "ipython3",
   "version": "3.9.15"
  }
 },
 "nbformat": 4,
 "nbformat_minor": 5
}
